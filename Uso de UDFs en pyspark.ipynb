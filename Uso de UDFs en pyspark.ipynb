{
 "cells": [
  {
   "cell_type": "markdown",
   "metadata": {
    "application/vnd.databricks.v1+cell": {
     "cellMetadata": {
      "byteLimit": 2048000,
      "rowLimit": 10000
     },
     "inputWidgets": {},
     "nuid": "2aace86a-f75d-46b5-a4d2-4cd414611f3d",
     "showTitle": false,
     "title": ""
    }
   },
   "source": [
    "# Uso de UDFs en Pyspark\n",
    "\n",
    "Nos permiten definir funciones custom usando Python/Pandas\n",
    "- Existen dos tipos:\n",
    "    -  pyspark.sql.functions.udf: Para funciones definidas en Python\n",
    "    - pyspark.sql.functions.pandas_udf: Para funciones definidas en Pandas\n",
    "- Solo permiten aplicar funciones por filas\n",
    "\n"
   ]
  },
  {
   "cell_type": "markdown",
   "metadata": {
    "application/vnd.databricks.v1+cell": {
     "cellMetadata": {
      "byteLimit": 2048000,
      "rowLimit": 10000
     },
     "inputWidgets": {},
     "nuid": "b5e1d61e-df7c-4ff1-8816-c5ede1bd291f",
     "showTitle": false,
     "title": ""
    }
   },
   "source": [
    "## UDFs Tradicionales (Python UDFs)\n",
    "- Rendimiento: las *UDFs tradicionales* pueden ser más lentas porque cada fila del DataFrame se procesa de manera individual y el procesamiento implica la serialización y deserialización de datos entre la JVM de Spark y el intérprete de Python\n",
    "- Facilidad de Uso: son sencillas de escribir y entender si se está familiarizado con Python, pero pueden no ser tan eficientes para grandes volúmenes de datos\n",
    "\n",
    "## Pandas UDFs (Vectorized UDFs)\n",
    "- Rendimiento: las *pandas_udf* están optimizadas para el rendimiento ya que procesan datos en lotes utilizando el backend de Apache Arrow para la transferencia de datos entre Spark y Pandas. Esto reduce significativamente el overhead de serialización y deserialización\n",
    "- Facilidad de Uso: Son más eficientes para grandes volúmenes de datos y permiten usar funciones de Pandas, lo cual puede simplificar ciertas transformaciones complejas"
   ]
  },
  {
   "cell_type": "markdown",
   "metadata": {
    "application/vnd.databricks.v1+cell": {
     "cellMetadata": {
      "byteLimit": 2048000,
      "rowLimit": 10000
     },
     "inputWidgets": {},
     "nuid": "42c58123-5eb0-47d1-8dfb-67bf9c473698",
     "showTitle": false,
     "title": ""
    }
   },
   "source": [
    "# Ejemplos de uso"
   ]
  },
  {
   "cell_type": "code",
   "execution_count": 0,
   "metadata": {
    "application/vnd.databricks.v1+cell": {
     "cellMetadata": {
      "byteLimit": 2048000,
      "rowLimit": 10000
     },
     "inputWidgets": {},
     "nuid": "04c3cfd3-c9cc-4b49-a185-61877283a595",
     "showTitle": false,
     "title": ""
    }
   },
   "outputs": [],
   "source": [
    "# Datos de ejemplo (lista de tuplas)\n",
    "data = [\n",
    "    (1, \"Juan\", \"Perez\", 30, \"Marketing\", 3000.0),\n",
    "    (2, \"Ana\", \"Gomez\", 45, \"Ventas\", 4000.0),\n",
    "    (3, \"Pedro\", \"Lopez\", 29, \"IT\", 3500.0),\n",
    "    (4, \"Luis\", \"Martinez\", 50, \"RRHH\", 4500.0),\n",
    "    (5, \"Maria\", \"Jimenez\", 35, \"IT\", 3800.0)\n",
    "]\n",
    "\n",
    "columns = [\"ID\", \"Nombre\", \"Apellido\", \"Edad\", \"Departamento\", \"Salario\"]\n",
    "\n",
    "df = spark.createDataFrame(data, columns) # creación de un spark df"
   ]
  },
  {
   "cell_type": "code",
   "execution_count": 0,
   "metadata": {
    "application/vnd.databricks.v1+cell": {
     "cellMetadata": {
      "byteLimit": 2048000,
      "rowLimit": 10000
     },
     "inputWidgets": {},
     "nuid": "2dd7bc66-5246-48d2-b293-2b2d5b1d3a8f",
     "showTitle": false,
     "title": ""
    }
   },
   "outputs": [
    {
     "output_type": "display_data",
     "data": {
      "text/html": [
       "<style scoped>\n",
       "  .table-result-container {\n",
       "    max-height: 300px;\n",
       "    overflow: auto;\n",
       "  }\n",
       "  table, th, td {\n",
       "    border: 1px solid black;\n",
       "    border-collapse: collapse;\n",
       "  }\n",
       "  th, td {\n",
       "    padding: 5px;\n",
       "  }\n",
       "  th {\n",
       "    text-align: left;\n",
       "  }\n",
       "</style><div class='table-result-container'><table class='table-result'><thead style='background-color: white'><tr><th>ID</th><th>Nombre</th><th>Apellido</th><th>Edad</th><th>Departamento</th><th>Salario</th></tr></thead><tbody><tr><td>1</td><td>Juan</td><td>Perez</td><td>30</td><td>Marketing</td><td>3000.0</td></tr><tr><td>2</td><td>Ana</td><td>Gomez</td><td>45</td><td>Ventas</td><td>4000.0</td></tr><tr><td>3</td><td>Pedro</td><td>Lopez</td><td>29</td><td>IT</td><td>3500.0</td></tr><tr><td>4</td><td>Luis</td><td>Martinez</td><td>50</td><td>RRHH</td><td>4500.0</td></tr><tr><td>5</td><td>Maria</td><td>Jimenez</td><td>35</td><td>IT</td><td>3800.0</td></tr></tbody></table></div>"
      ]
     },
     "metadata": {
      "application/vnd.databricks.v1+output": {
       "addedWidgets": {},
       "aggData": [],
       "aggError": "",
       "aggOverflow": false,
       "aggSchema": [],
       "aggSeriesLimitReached": false,
       "aggType": "",
       "arguments": {},
       "columnCustomDisplayInfos": {},
       "data": [
        [
         1,
         "Juan",
         "Perez",
         30,
         "Marketing",
         3000.0
        ],
        [
         2,
         "Ana",
         "Gomez",
         45,
         "Ventas",
         4000.0
        ],
        [
         3,
         "Pedro",
         "Lopez",
         29,
         "IT",
         3500.0
        ],
        [
         4,
         "Luis",
         "Martinez",
         50,
         "RRHH",
         4500.0
        ],
        [
         5,
         "Maria",
         "Jimenez",
         35,
         "IT",
         3800.0
        ]
       ],
       "datasetInfos": [],
       "dbfsResultPath": null,
       "isJsonSchema": true,
       "metadata": {},
       "overflow": false,
       "plotOptions": {
        "customPlotOptions": {},
        "displayType": "table",
        "pivotAggregation": null,
        "pivotColumns": null,
        "xColumns": null,
        "yColumns": null
       },
       "removedWidgets": [],
       "schema": [
        {
         "metadata": "{}",
         "name": "ID",
         "type": "\"long\""
        },
        {
         "metadata": "{}",
         "name": "Nombre",
         "type": "\"string\""
        },
        {
         "metadata": "{}",
         "name": "Apellido",
         "type": "\"string\""
        },
        {
         "metadata": "{}",
         "name": "Edad",
         "type": "\"long\""
        },
        {
         "metadata": "{}",
         "name": "Departamento",
         "type": "\"string\""
        },
        {
         "metadata": "{}",
         "name": "Salario",
         "type": "\"double\""
        }
       ],
       "type": "table"
      }
     },
     "output_type": "display_data"
    }
   ],
   "source": [
    "df.display()"
   ]
  },
  {
   "cell_type": "code",
   "execution_count": 0,
   "metadata": {
    "application/vnd.databricks.v1+cell": {
     "cellMetadata": {
      "byteLimit": 2048000,
      "rowLimit": 10000
     },
     "inputWidgets": {},
     "nuid": "473bb5b7-1e55-4232-8949-d718df11a472",
     "showTitle": false,
     "title": ""
    }
   },
   "outputs": [],
   "source": [
    "# cargar módulos básicos de spark sql\n",
    "import pyspark.sql.functions as F"
   ]
  },
  {
   "cell_type": "markdown",
   "metadata": {
    "application/vnd.databricks.v1+cell": {
     "cellMetadata": {
      "byteLimit": 2048000,
      "rowLimit": 10000
     },
     "inputWidgets": {},
     "nuid": "6897483a-6ebf-45d4-ac41-936f7030b542",
     "showTitle": false,
     "title": ""
    }
   },
   "source": [
    "## Ejemplo 1: concatenar nombre y apellido"
   ]
  },
  {
   "cell_type": "markdown",
   "metadata": {
    "application/vnd.databricks.v1+cell": {
     "cellMetadata": {
      "byteLimit": 2048000,
      "rowLimit": 10000
     },
     "inputWidgets": {},
     "nuid": "7e1aaaa4-9ebf-4d80-afe8-dff9e9dfa2e4",
     "showTitle": false,
     "title": ""
    }
   },
   "source": [
    "### UDF básica"
   ]
  },
  {
   "cell_type": "code",
   "execution_count": 0,
   "metadata": {
    "application/vnd.databricks.v1+cell": {
     "cellMetadata": {
      "byteLimit": 2048000,
      "rowLimit": 10000
     },
     "inputWidgets": {},
     "nuid": "826ba44b-18ab-4a04-9403-8b0d5966de48",
     "showTitle": false,
     "title": ""
    }
   },
   "outputs": [
    {
     "output_type": "display_data",
     "data": {
      "text/html": [
       "<style scoped>\n",
       "  .table-result-container {\n",
       "    max-height: 300px;\n",
       "    overflow: auto;\n",
       "  }\n",
       "  table, th, td {\n",
       "    border: 1px solid black;\n",
       "    border-collapse: collapse;\n",
       "  }\n",
       "  th, td {\n",
       "    padding: 5px;\n",
       "  }\n",
       "  th {\n",
       "    text-align: left;\n",
       "  }\n",
       "</style><div class='table-result-container'><table class='table-result'><thead style='background-color: white'><tr><th>ID</th><th>Nombre</th><th>Apellido</th><th>Edad</th><th>Departamento</th><th>Salario</th><th>Nombre_Completo</th></tr></thead><tbody><tr><td>1</td><td>Juan</td><td>Perez</td><td>30</td><td>Marketing</td><td>3000.0</td><td>Juan_Perez</td></tr><tr><td>2</td><td>Ana</td><td>Gomez</td><td>45</td><td>Ventas</td><td>4000.0</td><td>Ana_Gomez</td></tr><tr><td>3</td><td>Pedro</td><td>Lopez</td><td>29</td><td>IT</td><td>3500.0</td><td>Pedro_Lopez</td></tr><tr><td>4</td><td>Luis</td><td>Martinez</td><td>50</td><td>RRHH</td><td>4500.0</td><td>Luis_Martinez</td></tr><tr><td>5</td><td>Maria</td><td>Jimenez</td><td>35</td><td>IT</td><td>3800.0</td><td>Maria_Jimenez</td></tr></tbody></table></div>"
      ]
     },
     "metadata": {
      "application/vnd.databricks.v1+output": {
       "addedWidgets": {},
       "aggData": [],
       "aggError": "",
       "aggOverflow": false,
       "aggSchema": [],
       "aggSeriesLimitReached": false,
       "aggType": "",
       "arguments": {},
       "columnCustomDisplayInfos": {},
       "data": [
        [
         1,
         "Juan",
         "Perez",
         30,
         "Marketing",
         3000.0,
         "Juan_Perez"
        ],
        [
         2,
         "Ana",
         "Gomez",
         45,
         "Ventas",
         4000.0,
         "Ana_Gomez"
        ],
        [
         3,
         "Pedro",
         "Lopez",
         29,
         "IT",
         3500.0,
         "Pedro_Lopez"
        ],
        [
         4,
         "Luis",
         "Martinez",
         50,
         "RRHH",
         4500.0,
         "Luis_Martinez"
        ],
        [
         5,
         "Maria",
         "Jimenez",
         35,
         "IT",
         3800.0,
         "Maria_Jimenez"
        ]
       ],
       "datasetInfos": [],
       "dbfsResultPath": null,
       "isJsonSchema": true,
       "metadata": {},
       "overflow": false,
       "plotOptions": {
        "customPlotOptions": {},
        "displayType": "table",
        "pivotAggregation": null,
        "pivotColumns": null,
        "xColumns": null,
        "yColumns": null
       },
       "removedWidgets": [],
       "schema": [
        {
         "metadata": "{}",
         "name": "ID",
         "type": "\"long\""
        },
        {
         "metadata": "{}",
         "name": "Nombre",
         "type": "\"string\""
        },
        {
         "metadata": "{}",
         "name": "Apellido",
         "type": "\"string\""
        },
        {
         "metadata": "{}",
         "name": "Edad",
         "type": "\"long\""
        },
        {
         "metadata": "{}",
         "name": "Departamento",
         "type": "\"string\""
        },
        {
         "metadata": "{}",
         "name": "Salario",
         "type": "\"double\""
        },
        {
         "metadata": "{}",
         "name": "Nombre_Completo",
         "type": "\"string\""
        }
       ],
       "type": "table"
      }
     },
     "output_type": "display_data"
    }
   ],
   "source": [
    "# Definimos la función que concatena nombre_apellido\n",
    "def concat_two_terms(term_1, term_2):\n",
    "    return f\"{term_1}_{term_2}\"\n",
    "\n",
    "concat_two_terms_udf = F.udf(concat_two_terms) # Construimos la UDF\n",
    "\n",
    "# Aplicamos la UDF\n",
    "df_concat = df.withColumn(\"Nombre_Completo\", concat_two_terms_udf(F.col(\"Nombre\"), F.col(\"Apellido\")))\n",
    "\n",
    "df_concat.display()"
   ]
  },
  {
   "cell_type": "markdown",
   "metadata": {
    "application/vnd.databricks.v1+cell": {
     "cellMetadata": {
      "byteLimit": 2048000,
      "rowLimit": 10000
     },
     "inputWidgets": {},
     "nuid": "f7b08226-91fc-44bf-bc53-f5c649ba5adc",
     "showTitle": false,
     "title": ""
    }
   },
   "source": [
    "### Pandas UDF"
   ]
  },
  {
   "cell_type": "code",
   "execution_count": 0,
   "metadata": {
    "application/vnd.databricks.v1+cell": {
     "cellMetadata": {
      "byteLimit": 2048000,
      "rowLimit": 10000
     },
     "inputWidgets": {},
     "nuid": "d1d9a8a8-ec22-442e-88fe-3438a1b31011",
     "showTitle": false,
     "title": ""
    }
   },
   "outputs": [
    {
     "output_type": "stream",
     "name": "stdout",
     "output_type": "stream",
     "text": [
      "+---+------+--------+----+------------+-------+-----------------+\n| ID|Nombre|Apellido|Edad|Departamento|Salario|Nombre_Completo_2|\n+---+------+--------+----+------------+-------+-----------------+\n|  1|  Juan|   Perez|  30|   Marketing| 3000.0|       Juan_Perez|\n|  2|   Ana|   Gomez|  45|      Ventas| 4000.0|        Ana_Gomez|\n|  3| Pedro|   Lopez|  29|          IT| 3500.0|      Pedro_Lopez|\n|  4|  Luis|Martinez|  50|        RRHH| 4500.0|    Luis_Martinez|\n|  5| Maria| Jimenez|  35|          IT| 3800.0|    Maria_Jimenez|\n+---+------+--------+----+------------+-------+-----------------+\n\n"
     ]
    }
   ],
   "source": [
    "# Definir la pandas_udf para concatenar nombre y apellido\n",
    "@F.pandas_udf(\"string\")\n",
    "def pd_udf_concat_two_terms(nombre, apellido):\n",
    "    return nombre + \"_\" + apellido\n",
    "\n",
    "# Aplicar la pandas_udf al DataFrame\n",
    "df_concat = df.withColumn(\"Nombre_Completo_2\", pd_udf_concat_two_terms(df[\"Nombre\"], df[\"Apellido\"]))\n",
    "\n",
    "df_concat.show()"
   ]
  },
  {
   "cell_type": "markdown",
   "metadata": {
    "application/vnd.databricks.v1+cell": {
     "cellMetadata": {
      "byteLimit": 2048000,
      "rowLimit": 10000
     },
     "inputWidgets": {},
     "nuid": "3e49c7e6-43aa-4f48-8cca-680e4aa2be72",
     "showTitle": false,
     "title": ""
    }
   },
   "source": [
    "## Ejemplo 2: Bonificación salario"
   ]
  },
  {
   "cell_type": "markdown",
   "metadata": {
    "application/vnd.databricks.v1+cell": {
     "cellMetadata": {
      "byteLimit": 2048000,
      "rowLimit": 10000
     },
     "inputWidgets": {},
     "nuid": "1f6e5008-12d3-47f6-85ed-b747eea37a17",
     "showTitle": false,
     "title": ""
    }
   },
   "source": [
    "### UDF básica"
   ]
  },
  {
   "cell_type": "code",
   "execution_count": 0,
   "metadata": {
    "application/vnd.databricks.v1+cell": {
     "cellMetadata": {
      "byteLimit": 2048000,
      "rowLimit": 10000
     },
     "inputWidgets": {},
     "nuid": "020d12bd-6400-4b09-bbdc-2b85c49e1837",
     "showTitle": false,
     "title": ""
    }
   },
   "outputs": [
    {
     "output_type": "stream",
     "name": "stdout",
     "output_type": "stream",
     "text": [
      "+---+------+--------+----+------------+-------+------------+\n| ID|Nombre|Apellido|Edad|Departamento|Salario|Bonificacion|\n+---+------+--------+----+------------+-------+------------+\n|  1|  Juan|   Perez|  30|   Marketing| 3000.0|       450.0|\n|  2|   Ana|   Gomez|  45|      Ventas| 4000.0|       600.0|\n|  3| Pedro|   Lopez|  29|          IT| 3500.0|       525.0|\n|  4|  Luis|Martinez|  50|        RRHH| 4500.0|       675.0|\n|  5| Maria| Jimenez|  35|          IT| 3800.0|       570.0|\n+---+------+--------+----+------------+-------+------------+\n\n"
     ]
    }
   ],
   "source": [
    "# Definimos la UDF para obtener el bonus sobre el salario base\n",
    "def bonus_calculate(salary, bonus_pct):\n",
    "    return salary * bonus_pct\n",
    "\n",
    "bonus_udf = F.udf(bonus_calculate) # Creamos de la UDF\n",
    "\n",
    "bonus_df = df.withColumn(\"Bonificacion\", bonus_udf(F.col(\"Salario\"), F.lit(0.15)))\n",
    "\n",
    "bonus_df.show()"
   ]
  },
  {
   "cell_type": "markdown",
   "metadata": {
    "application/vnd.databricks.v1+cell": {
     "cellMetadata": {
      "byteLimit": 2048000,
      "rowLimit": 10000
     },
     "inputWidgets": {},
     "nuid": "122a20e0-008f-4b18-81b1-3b4110015937",
     "showTitle": false,
     "title": ""
    }
   },
   "source": [
    "### Pandas UDF"
   ]
  },
  {
   "cell_type": "code",
   "execution_count": 0,
   "metadata": {
    "application/vnd.databricks.v1+cell": {
     "cellMetadata": {
      "byteLimit": 2048000,
      "rowLimit": 10000
     },
     "inputWidgets": {},
     "nuid": "2ed71526-5aa1-4ed8-ad26-2f4b0ecbf2db",
     "showTitle": false,
     "title": ""
    }
   },
   "outputs": [
    {
     "output_type": "stream",
     "name": "stdout",
     "output_type": "stream",
     "text": [
      "+---+------+--------+----+------------+-------+--------------+\n| ID|Nombre|Apellido|Edad|Departamento|Salario|Bonificacion_2|\n+---+------+--------+----+------------+-------+--------------+\n|  1|  Juan|   Perez|  30|   Marketing| 3000.0|         450.0|\n|  2|   Ana|   Gomez|  45|      Ventas| 4000.0|         600.0|\n|  3| Pedro|   Lopez|  29|          IT| 3500.0|         525.0|\n|  4|  Luis|Martinez|  50|        RRHH| 4500.0|         675.0|\n|  5| Maria| Jimenez|  35|          IT| 3800.0|         570.0|\n+---+------+--------+----+------------+-------+--------------+\n\n"
     ]
    }
   ],
   "source": [
    "# Definimos la pandas_udf para obtener el bonus sobre el salario base\n",
    "@F.pandas_udf(\"double\")\n",
    "def pd_udf_bonus_calculate(salary, bonus_pct):\n",
    "    return salary * bonus_pct\n",
    "\n",
    "# Aplicar la pandas_udf al DataFrame\n",
    "bonus_df = df.withColumn(\"Bonificacion_2\", pd_udf_bonus_calculate(df[\"Salario\"], F.lit(0.15)))\n",
    "\n",
    "bonus_df.show()"
   ]
  },
  {
   "cell_type": "markdown",
   "metadata": {
    "application/vnd.databricks.v1+cell": {
     "cellMetadata": {
      "byteLimit": 2048000,
      "rowLimit": 10000
     },
     "inputWidgets": {},
     "nuid": "59a1c5fc-2c6c-4f69-a1b5-e94a91d1d49b",
     "showTitle": false,
     "title": ""
    }
   },
   "source": [
    "## Ejemplo 3: Categorización Edad"
   ]
  },
  {
   "cell_type": "markdown",
   "metadata": {
    "application/vnd.databricks.v1+cell": {
     "cellMetadata": {
      "byteLimit": 2048000,
      "rowLimit": 10000
     },
     "inputWidgets": {},
     "nuid": "58407d5b-b779-483f-8f41-00c17a015090",
     "showTitle": false,
     "title": ""
    }
   },
   "source": [
    "### UDF Básica"
   ]
  },
  {
   "cell_type": "code",
   "execution_count": 0,
   "metadata": {
    "application/vnd.databricks.v1+cell": {
     "cellMetadata": {
      "byteLimit": 2048000,
      "rowLimit": 10000
     },
     "inputWidgets": {},
     "nuid": "20c69978-ba23-4144-b345-733fc77bd743",
     "showTitle": false,
     "title": ""
    }
   },
   "outputs": [
    {
     "output_type": "stream",
     "name": "stdout",
     "output_type": "stream",
     "text": [
      "+---+------+--------+----+------------+-------+--------------+\n| ID|Nombre|Apellido|Edad|Departamento|Salario|Categoria_Edad|\n+---+------+--------+----+------------+-------+--------------+\n|  1|  Juan|   Perez|  30|   Marketing| 3000.0|  Mediana_Edad|\n|  2|   Ana|   Gomez|  45|      Ventas| 4000.0|         Mayor|\n|  3| Pedro|   Lopez|  29|          IT| 3500.0|         Joven|\n|  4|  Luis|Martinez|  50|        RRHH| 4500.0|         Mayor|\n|  5| Maria| Jimenez|  35|          IT| 3800.0|  Mediana_Edad|\n+---+------+--------+----+------------+-------+--------------+\n\n"
     ]
    }
   ],
   "source": [
    "# Definimos la función la UDF para categorizar la edad\n",
    "def bucket_age(age, value_1, value_2):\n",
    "    if age < value_1:\n",
    "        return \"Joven\"\n",
    "    elif value_1 <= age < value_2:\n",
    "        return \"Mediana_Edad\"\n",
    "    else:\n",
    "        return \"Mayor\"\n",
    "\n",
    "bucket_age_udf = F.udf(bucket_age) # Creamos de la UDF\n",
    "\n",
    "# Aplicar la UDF al DataFrame\n",
    "df_bucket_age = df.withColumn(\"Categoria_Edad\", bucket_age_udf(F.col(\"Edad\"), F.lit(30), F.lit(45)))\n",
    "\n",
    "df_bucket_age.show()"
   ]
  },
  {
   "cell_type": "markdown",
   "metadata": {
    "application/vnd.databricks.v1+cell": {
     "cellMetadata": {
      "byteLimit": 2048000,
      "rowLimit": 10000
     },
     "inputWidgets": {},
     "nuid": "47162c18-80b3-4526-8e93-878d2b67369a",
     "showTitle": false,
     "title": ""
    }
   },
   "source": [
    "### Pandas UDF"
   ]
  },
  {
   "cell_type": "code",
   "execution_count": 0,
   "metadata": {
    "application/vnd.databricks.v1+cell": {
     "cellMetadata": {
      "byteLimit": 2048000,
      "rowLimit": 10000
     },
     "inputWidgets": {},
     "nuid": "2c3ccb58-f710-481e-a3dd-c416e85734e6",
     "showTitle": false,
     "title": ""
    }
   },
   "outputs": [
    {
     "output_type": "stream",
     "name": "stdout",
     "output_type": "stream",
     "text": [
      "+---+------+--------+----+------------+-------+----------------+\n| ID|Nombre|Apellido|Edad|Departamento|Salario|Categoria_Edad_2|\n+---+------+--------+----+------------+-------+----------------+\n|  1|  Juan|   Perez|  30|   Marketing| 3000.0|    Mediana_Edad|\n|  2|   Ana|   Gomez|  45|      Ventas| 4000.0|           Mayor|\n|  3| Pedro|   Lopez|  29|          IT| 3500.0|           Joven|\n|  4|  Luis|Martinez|  50|        RRHH| 4500.0|           Mayor|\n|  5| Maria| Jimenez|  35|          IT| 3800.0|    Mediana_Edad|\n+---+------+--------+----+------------+-------+----------------+\n\n"
     ]
    }
   ],
   "source": [
    "# Definimos la pandas_udf para los buckets de edad\n",
    "@F.pandas_udf(\"string\")\n",
    "def pd_udf_bucket_age(age, value_1, value_2):\n",
    "    return age.apply(lambda x: \"Joven\" if x < value_1.iloc[0] else \"Mediana_Edad\" if x < value_2.iloc[0] else \"Mayor\")\n",
    "\n",
    "# Aplicación de la pandas_udf al DataFrame\n",
    "df_bucket_age = df.withColumn(\"Categoria_Edad_2\", pd_udf_bucket_age(df[\"Edad\"], F.lit(30), F.lit(45)))\n",
    "\n",
    "df_bucket_age.show()"
   ]
  },
  {
   "cell_type": "markdown",
   "metadata": {
    "application/vnd.databricks.v1+cell": {
     "cellMetadata": {
      "byteLimit": 2048000,
      "rowLimit": 10000
     },
     "inputWidgets": {},
     "nuid": "734eb12f-4967-41fe-a527-0e92f6a6e76e",
     "showTitle": false,
     "title": ""
    }
   },
   "source": []
  }
 ],
 "metadata": {
  "application/vnd.databricks.v1+notebook": {
   "dashboards": [],
   "environmentMetadata": null,
   "language": "python",
   "notebookMetadata": {
    "pythonIndentUnit": 4
   },
   "notebookName": "Uso de UDFs en pyspark",
   "widgets": {}
  }
 },
 "nbformat": 4,
 "nbformat_minor": 0
}
